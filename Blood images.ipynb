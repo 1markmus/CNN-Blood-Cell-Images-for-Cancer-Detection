{
 "cells": [
  {
   "cell_type": "markdown",
   "metadata": {},
   "source": [
    "# Blood Cell Images for Cancer Detection"
   ]
  },
  {
   "cell_type": "markdown",
   "metadata": {},
   "source": [
    "image"
   ]
  },
  {
   "cell_type": "markdown",
   "metadata": {},
   "source": [
    "### Story"
   ]
  },
  {
   "cell_type": "markdown",
   "metadata": {},
   "source": [
    "# Dependencies"
   ]
  },
  {
   "cell_type": "code",
   "execution_count": 180,
   "metadata": {},
   "outputs": [],
   "source": [
    "# Standard \n",
    "import numpy as np\n",
    "import pandas as pd\n",
    "\n",
    "# Visualize\n",
    "import matplotlib.pyplot as plt\n",
    "import seaborn as sns\n",
    "\n",
    "# Images\n",
    "from torchvision.datasets import ImageFolder\n",
    "from torchvision.transforms import transforms\n",
    "\n",
    "# Utility\n",
    "from torch.utils.data import DataLoader\n",
    "from sklearn.metrics import confusion_matrix\n",
    "import time\n",
    "\n",
    "# Neural network\n",
    "import torch\n",
    "import torch.nn as nn\n",
    "from torch import optim\n",
    "\n",
    "# Evaluation\n",
    "from torchmetrics import Precision, Recall"
   ]
  },
  {
   "cell_type": "markdown",
   "metadata": {},
   "source": [
    "# Transform for images"
   ]
  },
  {
   "cell_type": "code",
   "execution_count": 181,
   "metadata": {},
   "outputs": [],
   "source": [
    "train_transform = transforms.Compose([\n",
    "    transforms.Resize((128, 128)),\n",
    "    transforms.RandomRotation(45),\n",
    "    transforms.RandomHorizontalFlip(),\n",
    "    transforms.RandomVerticalFlip(),\n",
    "    transforms.ToTensor()\n",
    "])\n",
    "\n",
    "test_transform = transforms.Compose([\n",
    "    transforms.Resize((128, 128)),\n",
    "    transforms.ToTensor()\n",
    "])"
   ]
  },
  {
   "cell_type": "markdown",
   "metadata": {},
   "source": [
    "# Import images"
   ]
  },
  {
   "cell_type": "code",
   "execution_count": 182,
   "metadata": {},
   "outputs": [],
   "source": [
    "train_data = ImageFolder(\n",
    "    \"data/train\",\n",
    "    transform = train_transform\n",
    ")\n",
    "\n",
    "test_data = ImageFolder(\n",
    "    \"data/test\",\n",
    "    transform = test_transform\n",
    ")"
   ]
  },
  {
   "cell_type": "markdown",
   "metadata": {},
   "source": [
    "# Create DataLoaders"
   ]
  },
  {
   "cell_type": "code",
   "execution_count": 183,
   "metadata": {},
   "outputs": [
    {
     "name": "stdout",
     "output_type": "stream",
     "text": [
      "tensor([[[[0., 0., 0.,  ..., 0., 0., 0.],\n",
      "          [0., 0., 0.,  ..., 0., 0., 0.],\n",
      "          [0., 0., 0.,  ..., 0., 0., 0.],\n",
      "          ...,\n",
      "          [0., 0., 0.,  ..., 0., 0., 0.],\n",
      "          [0., 0., 0.,  ..., 0., 0., 0.],\n",
      "          [0., 0., 0.,  ..., 0., 0., 0.]],\n",
      "\n",
      "         [[0., 0., 0.,  ..., 0., 0., 0.],\n",
      "          [0., 0., 0.,  ..., 0., 0., 0.],\n",
      "          [0., 0., 0.,  ..., 0., 0., 0.],\n",
      "          ...,\n",
      "          [0., 0., 0.,  ..., 0., 0., 0.],\n",
      "          [0., 0., 0.,  ..., 0., 0., 0.],\n",
      "          [0., 0., 0.,  ..., 0., 0., 0.]],\n",
      "\n",
      "         [[0., 0., 0.,  ..., 0., 0., 0.],\n",
      "          [0., 0., 0.,  ..., 0., 0., 0.],\n",
      "          [0., 0., 0.,  ..., 0., 0., 0.],\n",
      "          ...,\n",
      "          [0., 0., 0.,  ..., 0., 0., 0.],\n",
      "          [0., 0., 0.,  ..., 0., 0., 0.],\n",
      "          [0., 0., 0.,  ..., 0., 0., 0.]]],\n",
      "\n",
      "\n",
      "        [[[0., 0., 0.,  ..., 0., 0., 0.],\n",
      "          [0., 0., 0.,  ..., 0., 0., 0.],\n",
      "          [0., 0., 0.,  ..., 0., 0., 0.],\n",
      "          ...,\n",
      "          [0., 0., 0.,  ..., 0., 0., 0.],\n",
      "          [0., 0., 0.,  ..., 0., 0., 0.],\n",
      "          [0., 0., 0.,  ..., 0., 0., 0.]],\n",
      "\n",
      "         [[0., 0., 0.,  ..., 0., 0., 0.],\n",
      "          [0., 0., 0.,  ..., 0., 0., 0.],\n",
      "          [0., 0., 0.,  ..., 0., 0., 0.],\n",
      "          ...,\n",
      "          [0., 0., 0.,  ..., 0., 0., 0.],\n",
      "          [0., 0., 0.,  ..., 0., 0., 0.],\n",
      "          [0., 0., 0.,  ..., 0., 0., 0.]],\n",
      "\n",
      "         [[0., 0., 0.,  ..., 0., 0., 0.],\n",
      "          [0., 0., 0.,  ..., 0., 0., 0.],\n",
      "          [0., 0., 0.,  ..., 0., 0., 0.],\n",
      "          ...,\n",
      "          [0., 0., 0.,  ..., 0., 0., 0.],\n",
      "          [0., 0., 0.,  ..., 0., 0., 0.],\n",
      "          [0., 0., 0.,  ..., 0., 0., 0.]]],\n",
      "\n",
      "\n",
      "        [[[0., 0., 0.,  ..., 0., 0., 0.],\n",
      "          [0., 0., 0.,  ..., 0., 0., 0.],\n",
      "          [0., 0., 0.,  ..., 0., 0., 0.],\n",
      "          ...,\n",
      "          [0., 0., 0.,  ..., 0., 0., 0.],\n",
      "          [0., 0., 0.,  ..., 0., 0., 0.],\n",
      "          [0., 0., 0.,  ..., 0., 0., 0.]],\n",
      "\n",
      "         [[0., 0., 0.,  ..., 0., 0., 0.],\n",
      "          [0., 0., 0.,  ..., 0., 0., 0.],\n",
      "          [0., 0., 0.,  ..., 0., 0., 0.],\n",
      "          ...,\n",
      "          [0., 0., 0.,  ..., 0., 0., 0.],\n",
      "          [0., 0., 0.,  ..., 0., 0., 0.],\n",
      "          [0., 0., 0.,  ..., 0., 0., 0.]],\n",
      "\n",
      "         [[0., 0., 0.,  ..., 0., 0., 0.],\n",
      "          [0., 0., 0.,  ..., 0., 0., 0.],\n",
      "          [0., 0., 0.,  ..., 0., 0., 0.],\n",
      "          ...,\n",
      "          [0., 0., 0.,  ..., 0., 0., 0.],\n",
      "          [0., 0., 0.,  ..., 0., 0., 0.],\n",
      "          [0., 0., 0.,  ..., 0., 0., 0.]]],\n",
      "\n",
      "\n",
      "        ...,\n",
      "\n",
      "\n",
      "        [[[0., 0., 0.,  ..., 0., 0., 0.],\n",
      "          [0., 0., 0.,  ..., 0., 0., 0.],\n",
      "          [0., 0., 0.,  ..., 0., 0., 0.],\n",
      "          ...,\n",
      "          [0., 0., 0.,  ..., 0., 0., 0.],\n",
      "          [0., 0., 0.,  ..., 0., 0., 0.],\n",
      "          [0., 0., 0.,  ..., 0., 0., 0.]],\n",
      "\n",
      "         [[0., 0., 0.,  ..., 0., 0., 0.],\n",
      "          [0., 0., 0.,  ..., 0., 0., 0.],\n",
      "          [0., 0., 0.,  ..., 0., 0., 0.],\n",
      "          ...,\n",
      "          [0., 0., 0.,  ..., 0., 0., 0.],\n",
      "          [0., 0., 0.,  ..., 0., 0., 0.],\n",
      "          [0., 0., 0.,  ..., 0., 0., 0.]],\n",
      "\n",
      "         [[0., 0., 0.,  ..., 0., 0., 0.],\n",
      "          [0., 0., 0.,  ..., 0., 0., 0.],\n",
      "          [0., 0., 0.,  ..., 0., 0., 0.],\n",
      "          ...,\n",
      "          [0., 0., 0.,  ..., 0., 0., 0.],\n",
      "          [0., 0., 0.,  ..., 0., 0., 0.],\n",
      "          [0., 0., 0.,  ..., 0., 0., 0.]]],\n",
      "\n",
      "\n",
      "        [[[0., 0., 0.,  ..., 0., 0., 0.],\n",
      "          [0., 0., 0.,  ..., 0., 0., 0.],\n",
      "          [0., 0., 0.,  ..., 0., 0., 0.],\n",
      "          ...,\n",
      "          [0., 0., 0.,  ..., 0., 0., 0.],\n",
      "          [0., 0., 0.,  ..., 0., 0., 0.],\n",
      "          [0., 0., 0.,  ..., 0., 0., 0.]],\n",
      "\n",
      "         [[0., 0., 0.,  ..., 0., 0., 0.],\n",
      "          [0., 0., 0.,  ..., 0., 0., 0.],\n",
      "          [0., 0., 0.,  ..., 0., 0., 0.],\n",
      "          ...,\n",
      "          [0., 0., 0.,  ..., 0., 0., 0.],\n",
      "          [0., 0., 0.,  ..., 0., 0., 0.],\n",
      "          [0., 0., 0.,  ..., 0., 0., 0.]],\n",
      "\n",
      "         [[0., 0., 0.,  ..., 0., 0., 0.],\n",
      "          [0., 0., 0.,  ..., 0., 0., 0.],\n",
      "          [0., 0., 0.,  ..., 0., 0., 0.],\n",
      "          ...,\n",
      "          [0., 0., 0.,  ..., 0., 0., 0.],\n",
      "          [0., 0., 0.,  ..., 0., 0., 0.],\n",
      "          [0., 0., 0.,  ..., 0., 0., 0.]]],\n",
      "\n",
      "\n",
      "        [[[0., 0., 0.,  ..., 0., 0., 0.],\n",
      "          [0., 0., 0.,  ..., 0., 0., 0.],\n",
      "          [0., 0., 0.,  ..., 0., 0., 0.],\n",
      "          ...,\n",
      "          [0., 0., 0.,  ..., 0., 0., 0.],\n",
      "          [0., 0., 0.,  ..., 0., 0., 0.],\n",
      "          [0., 0., 0.,  ..., 0., 0., 0.]],\n",
      "\n",
      "         [[0., 0., 0.,  ..., 0., 0., 0.],\n",
      "          [0., 0., 0.,  ..., 0., 0., 0.],\n",
      "          [0., 0., 0.,  ..., 0., 0., 0.],\n",
      "          ...,\n",
      "          [0., 0., 0.,  ..., 0., 0., 0.],\n",
      "          [0., 0., 0.,  ..., 0., 0., 0.],\n",
      "          [0., 0., 0.,  ..., 0., 0., 0.]],\n",
      "\n",
      "         [[0., 0., 0.,  ..., 0., 0., 0.],\n",
      "          [0., 0., 0.,  ..., 0., 0., 0.],\n",
      "          [0., 0., 0.,  ..., 0., 0., 0.],\n",
      "          ...,\n",
      "          [0., 0., 0.,  ..., 0., 0., 0.],\n",
      "          [0., 0., 0.,  ..., 0., 0., 0.],\n",
      "          [0., 0., 0.,  ..., 0., 0., 0.]]]]) tensor([1, 4, 0, 1, 4, 4, 4, 2, 1, 0, 2, 0, 4, 4, 3, 0])\n"
     ]
    }
   ],
   "source": [
    "def CreateDataLoaders(data, batch_size):\n",
    "    \"\"\"\n",
    "    data: \n",
    "    Transformed images from train, validation or test folders\n",
    "\n",
    "    batch_size: \n",
    "    Number of images loaded each batch\n",
    "    \"\"\"\n",
    "    x = DataLoader(\n",
    "        data,\n",
    "        shuffle = True,\n",
    "        batch_size = batch_size,\n",
    "        )\n",
    "    return x\n",
    "\n",
    "# DataLoaders\n",
    "train_dataloader = CreateDataLoaders(train_data, 16)\n",
    "test_dataloader = CreateDataLoaders(test_data, 16)\n",
    "\n",
    "# Print images and labels\n",
    "images, labels = next(iter(train_dataloader))\n",
    "print(images, labels)"
   ]
  },
  {
   "cell_type": "markdown",
   "metadata": {},
   "source": [
    "# Shape"
   ]
  },
  {
   "cell_type": "code",
   "execution_count": 184,
   "metadata": {},
   "outputs": [
    {
     "name": "stdout",
     "output_type": "stream",
     "text": [
      "torch.Size([3, 128, 128])\n"
     ]
    }
   ],
   "source": [
    "print(images[0].shape)"
   ]
  },
  {
   "cell_type": "markdown",
   "metadata": {},
   "source": [
    "# Name encoding"
   ]
  },
  {
   "cell_type": "code",
   "execution_count": 185,
   "metadata": {},
   "outputs": [
    {
     "name": "stdout",
     "output_type": "stream",
     "text": [
      "{'basophil': 0, 'erythroblast': 1, 'monocyte': 2, 'myeloblast': 3, 'seg_neutrophil': 4}\n"
     ]
    }
   ],
   "source": [
    "# Names mapped to labels in dictionary\n",
    "names = train_data.class_to_idx\n",
    "print(names)\n",
    "\n",
    "# Keys from dictionary to list\n",
    "keys = list(names.keys())"
   ]
  },
  {
   "cell_type": "markdown",
   "metadata": {},
   "source": [
    "# CNN"
   ]
  },
  {
   "cell_type": "code",
   "execution_count": 186,
   "metadata": {},
   "outputs": [],
   "source": [
    "class Net(nn.Module):\n",
    "    def __init__(self, n_classes):\n",
    "        super().__init__()\n",
    "\n",
    "        self.extract = nn.Sequential(\n",
    "            nn.Conv2d(in_channels=3, out_channels=8, kernel_size=3, padding=1, stride=1),\n",
    "            nn.BatchNorm2d(8),\n",
    "            nn.MaxPool2d(kernel_size=2),\n",
    "            nn.ELU(),\n",
    "\n",
    "            nn.Conv2d(in_channels=8, out_channels=16, kernel_size=3, padding=1, stride=1),\n",
    "            nn.BatchNorm2d(16),\n",
    "            nn.Dropout2d(p = 0.1),\n",
    "\n",
    "            nn.Conv2d(in_channels=16, out_channels=32, kernel_size=3, padding=1, stride=1),\n",
    "            nn.BatchNorm2d(32),\n",
    "            nn.MaxPool2d(kernel_size=2),\n",
    "            nn.ReLU(),\n",
    "            nn.Flatten()\n",
    "        )\n",
    "\n",
    "        self.classifier = nn.Sequential(\n",
    "            nn.Linear(32 * 32 * 32, n_classes)\n",
    "        )\n",
    "\n",
    "    def forward(self, x):\n",
    "        x = self.extract(x)\n",
    "        x = self.classifier(x)\n",
    "        return x"
   ]
  },
  {
   "cell_type": "markdown",
   "metadata": {},
   "source": [
    "# Model, optimizer, loss function and scheduler"
   ]
  },
  {
   "cell_type": "code",
   "execution_count": 187,
   "metadata": {},
   "outputs": [],
   "source": [
    "# Model\n",
    "net = Net(5)\n",
    "\n",
    "# Optimizer\n",
    "optimizer = optim.Adam(net.parameters(), lr = 0.001, weight_decay=10e-4)\n",
    "\n",
    "# Loss function\n",
    "criterion = nn.CrossEntropyLoss()\n",
    "\n",
    "# Scheduler\n",
    "scheduler = optim.lr_scheduler.ReduceLROnPlateau(optimizer, mode = \"min\", patience=2, factor=0.1)"
   ]
  },
  {
   "cell_type": "markdown",
   "metadata": {},
   "source": [
    "# Define metrics"
   ]
  },
  {
   "cell_type": "code",
   "execution_count": 188,
   "metadata": {},
   "outputs": [],
   "source": [
    "# Defining metrics\n",
    "metric_precision = Precision(task=\"multiclass\", num_classes=5, average=\"weighted\")\n",
    "metric_recall = Recall(task=\"multiclass\", num_classes=5, average=\"weighted\")"
   ]
  },
  {
   "cell_type": "markdown",
   "metadata": {},
   "source": [
    "# Training and testing"
   ]
  },
  {
   "cell_type": "code",
   "execution_count": 189,
   "metadata": {},
   "outputs": [
    {
     "name": "stdout",
     "output_type": "stream",
     "text": [
      "Epoch: 1 (20.59 seconds)\n",
      "Train accuracy: 0.7348 | Test accuracy: 0.6370 \n",
      "Train loss: 1.4768 | Test loss: 2.2104 \n",
      "Test precision: 0.7308 | Test recall: 0.6370\n",
      "Early stop: 0/2\n",
      "\n",
      "Epoch: 2 (20.53 seconds)\n",
      "Train accuracy: 0.8635 | Test accuracy: 0.8670 \n",
      "Train loss: 0.6884 | Test loss: 0.4724 \n",
      "Test precision: 0.7932 | Test recall: 0.7520\n",
      "Early stop: 0/2\n",
      "\n",
      "Epoch: 3 (20.82 seconds)\n",
      "Train accuracy: 0.9080 | Test accuracy: 0.9260 \n",
      "Train loss: 0.4315 | Test loss: 0.3022 \n",
      "Test precision: 0.8381 | Test recall: 0.8100\n",
      "Early stop: 0/2\n",
      "\n",
      "Epoch: 4 (21.19 seconds)\n",
      "Train accuracy: 0.9265 | Test accuracy: 0.9510 \n",
      "Train loss: 0.3263 | Test loss: 0.2115 \n",
      "Test precision: 0.8615 | Test recall: 0.8452\n",
      "Early stop: 0/2\n",
      "\n",
      "Epoch: 5 (20.52 seconds)\n",
      "Train accuracy: 0.9200 | Test accuracy: 0.9560 \n",
      "Train loss: 0.3884 | Test loss: 0.2315 \n",
      "Test precision: 0.8785 | Test recall: 0.8674\n",
      "Early stop: 0/2\n",
      "\n",
      "Epoch: 6 (20.78 seconds)\n",
      "Train accuracy: 0.9387 | Test accuracy: 0.9810 \n",
      "Train loss: 0.2539 | Test loss: 0.0981 \n",
      "Test precision: 0.8945 | Test recall: 0.8863\n",
      "Early stop: 0/2\n",
      "\n",
      "Epoch: 7 (20.48 seconds)\n",
      "Train accuracy: 0.9377 | Test accuracy: 0.9650 \n",
      "Train loss: 0.2884 | Test loss: 0.1667 \n",
      "Test precision: 0.9031 | Test recall: 0.8976\n",
      "Early stop: 0/2\n",
      "\n",
      "Epoch: 8 (20.45 seconds)\n",
      "Train accuracy: 0.9540 | Test accuracy: 0.9670 \n",
      "Train loss: 0.1800 | Test loss: 0.1630 \n",
      "Test precision: 0.9110 | Test recall: 0.9062\n",
      "Early stop: 0/2\n",
      "\n",
      "Epoch: 9 (20.41 seconds)\n",
      "Train accuracy: 0.9537 | Test accuracy: 0.9650 \n",
      "Train loss: 0.1778 | Test loss: 0.1200 \n",
      "Test precision: 0.9167 | Test recall: 0.9128\n",
      "Early stop: 0/2\n",
      "\n",
      "Epoch: 10 (20.43 seconds)\n",
      "Train accuracy: 0.9725 | Test accuracy: 0.9740 \n",
      "Train loss: 0.0912 | Test loss: 0.1195 \n",
      "Test precision: 0.9221 | Test recall: 0.9189\n",
      "Early stop: 0/2\n",
      "\n",
      "Epoch: 11 (20.42 seconds)\n",
      "Train accuracy: 0.9765 | Test accuracy: 0.9790 \n",
      "Train loss: 0.0765 | Test loss: 0.0987 \n",
      "Test precision: 0.9271 | Test recall: 0.9244\n",
      "Early stop: 0/2\n",
      "\n",
      "Epoch: 12 (20.47 seconds)\n",
      "Train accuracy: 0.9830 | Test accuracy: 0.9810 \n",
      "Train loss: 0.0621 | Test loss: 0.0903 \n",
      "Test precision: 0.9314 | Test recall: 0.9291\n",
      "Early stop: 0/2\n",
      "\n",
      "Epoch: 13 (20.43 seconds)\n",
      "Train accuracy: 0.9835 | Test accuracy: 0.9810 \n",
      "Train loss: 0.0512 | Test loss: 0.0802 \n",
      "Test precision: 0.9350 | Test recall: 0.9331\n",
      "Early stop: 0/2\n",
      "\n",
      "Epoch: 14 (20.78 seconds)\n",
      "Train accuracy: 0.9835 | Test accuracy: 0.9710 \n",
      "Train loss: 0.0497 | Test loss: 0.0969 \n",
      "Test precision: 0.9374 | Test recall: 0.9358\n",
      "Early stop: 0/2\n",
      "\n",
      "Epoch: 15 (20.59 seconds)\n",
      "Train accuracy: 0.9842 | Test accuracy: 0.9820 \n",
      "Train loss: 0.0524 | Test loss: 0.0743 \n",
      "Test precision: 0.9403 | Test recall: 0.9389\n",
      "Early stop: 0/2\n",
      "\n",
      "Epoch: 16 (20.95 seconds)\n",
      "Train accuracy: 0.9848 | Test accuracy: 0.9840 \n",
      "Train loss: 0.0437 | Test loss: 0.0729 \n",
      "Test precision: 0.9430 | Test recall: 0.9417\n",
      "Early stop: 0/2\n",
      "\n",
      "Epoch: 17 (20.47 seconds)\n",
      "Train accuracy: 0.9855 | Test accuracy: 0.9850 \n",
      "Train loss: 0.0455 | Test loss: 0.0877 \n",
      "Test precision: 0.9454 | Test recall: 0.9442\n",
      "Early stop: 0/2\n",
      "\n",
      "Epoch: 18 (20.41 seconds)\n",
      "Train accuracy: 0.9870 | Test accuracy: 0.9810 \n",
      "Train loss: 0.0469 | Test loss: 0.0689 \n",
      "Test precision: 0.9473 | Test recall: 0.9463\n",
      "Early stop: 0/2\n",
      "\n",
      "Epoch: 19 (20.74 seconds)\n",
      "Train accuracy: 0.9850 | Test accuracy: 0.9730 \n",
      "Train loss: 0.0556 | Test loss: 0.1087 \n",
      "Test precision: 0.9486 | Test recall: 0.9477\n",
      "Early stop: 0/2\n",
      "\n",
      "Epoch: 20 (21.77 seconds)\n",
      "Train accuracy: 0.9872 | Test accuracy: 0.9800 \n",
      "Train loss: 0.0463 | Test loss: 0.0866 \n",
      "Test precision: 0.9501 | Test recall: 0.9493\n",
      "Early stop: 0/2\n",
      "\n"
     ]
    }
   ],
   "source": [
    "# Run n epochs\n",
    "n_epochs = 20\n",
    "\n",
    "# Early stop\n",
    "counter = 0\n",
    "paticence = 2\n",
    "best_loss = np.inf\n",
    "\n",
    "# Train and test losses\n",
    "train_losses = []\n",
    "test_losses = []\n",
    "\n",
    "# Train and test accuracy\n",
    "train_accuracies = []\n",
    "test_accuracies = []\n",
    "\n",
    "# Run loop\n",
    "for epoch in range(n_epochs):\n",
    "    # Start time\n",
    "    start = time.time()\n",
    "\n",
    "    # Loss\n",
    "    train_total_loss = 0.0\n",
    "\n",
    "    # Correct classification\n",
    "    train_correct = 0.0\n",
    "    train_count = 0.0\n",
    "\n",
    "    # Loop\n",
    "    for image, label in train_dataloader:\n",
    "        optimizer.zero_grad()\n",
    "        output = net(image)\n",
    "        loss = criterion(output, label)\n",
    "        loss.backward()\n",
    "        optimizer.step()\n",
    "        \n",
    "        # Accuracy\n",
    "        _, pred = torch.max(output, 1)\n",
    "        train_correct += (pred == label).sum().item()\n",
    "        train_count += label.size(0)\n",
    "\n",
    "        # Loss\n",
    "        train_total_loss += loss.item()\n",
    "    \n",
    "    # Epoch train performance\n",
    "    train_loss = train_total_loss / len(train_dataloader)\n",
    "    train_losses.append(train_loss)\n",
    "\n",
    "    # Train accuracy\n",
    "    train_accuracy = train_correct / train_count\n",
    "    train_accuracies.append(train_accuracy)\n",
    "\n",
    "    # Testing loop\n",
    "    net.eval()\n",
    "\n",
    "    # Loss\n",
    "    test_total_loss = 0\n",
    "\n",
    "    # Labels\n",
    "    true_labels = []\n",
    "    pred_labels = []\n",
    "\n",
    "    # Correct classification\n",
    "    test_correct = 0.0\n",
    "    test_count = 0.0\n",
    "\n",
    "    # Loop\n",
    "    with torch.no_grad():\n",
    "        for image, label in test_dataloader:\n",
    "            output = net(image)\n",
    "            loss = criterion(output, label)\n",
    "            \n",
    "            # Predictions for heatmap\n",
    "            _, pred = torch.max(output, 1)\n",
    "            true_labels.extend(label)\n",
    "            pred_labels.extend(pred)\n",
    "\n",
    "            # Accuracy\n",
    "            test_correct += (pred == label).sum().item()\n",
    "            test_count += label.size(0)\n",
    "\n",
    "            # Metrics\n",
    "            metric_precision(pred, label)\n",
    "            metric_recall(pred, label)\n",
    "\n",
    "            # Loss\n",
    "            test_total_loss += loss.item()\n",
    "    \n",
    "    # Epoch test performance\n",
    "    test_loss = test_total_loss / len(test_dataloader)\n",
    "    test_losses.append(test_loss)\n",
    "\n",
    "    # Update learning rate based on test loss\n",
    "    scheduler.step(metrics=test_loss)\n",
    "\n",
    "    # Test accuracy\n",
    "    test_accuracy = test_correct / test_count\n",
    "    test_accuracies.append(test_accuracy)\n",
    "\n",
    "    # Compute metrics for test images\n",
    "    precision = metric_precision.compute()\n",
    "    recall = metric_recall.compute()\n",
    "\n",
    "    # Save best model\n",
    "    if test_loss < best_loss:\n",
    "\n",
    "        # Reset counter\n",
    "        counter = 0\n",
    "\n",
    "        # Save best model\n",
    "        torch.save(net, \"best_blood_cancer_classification.pth\")\n",
    "    else:\n",
    "\n",
    "        # Counter increase by 1 \n",
    "        counter += 1\n",
    "\n",
    "    # Train loop switch\n",
    "    net.train()\n",
    "\n",
    "    # End time\n",
    "    finish = time.time()\n",
    "\n",
    "    # Early stop\n",
    "    if counter >= paticence:\n",
    "        print(\"Best model saved!\")\n",
    "        break\n",
    "\n",
    "    # Print epoch results\n",
    "    print(f'Epoch: {epoch + 1} ({finish-start:.2f} seconds)\\nTrain accuracy: {train_accuracy:.4f} | Test accuracy: {test_accuracy:.4f} \\nTrain loss: {train_loss:.4f} | Test loss: {test_loss:.4f} \\nTest precision: {precision:.4f} | Test recall: {recall:.4f}\\nEarly stop: {counter}/{paticence}\\n')"
   ]
  },
  {
   "cell_type": "markdown",
   "metadata": {},
   "source": [
    "# Visualize loss"
   ]
  },
  {
   "cell_type": "code",
   "execution_count": 190,
   "metadata": {},
   "outputs": [
    {
     "data": {
      "image/png": "[encoded data removed]",
      "text/plain": [
       "<Figure size 800x800 with 1 Axes>"
      ]
     },
     "metadata": {},
     "output_type": "display_data"
    }
   ],
   "source": [
    "fig, ax = plt.subplots(figsize = (8, 8))\n",
    "\n",
    "# Title\n",
    "plt.title(\"Loss\")\n",
    "\n",
    "# Data\n",
    "plt.plot(train_losses, label = \"Train loss\")\n",
    "plt.plot(test_losses, label = \"Test loss\")\n",
    "\n",
    "# Axis\n",
    "plt.xlabel(\"Epoch\")\n",
    "plt.ylabel(\"Loss\")\n",
    "\n",
    "# Legend\n",
    "plt.legend()\n",
    "plt.show()"
   ]
  },
  {
   "cell_type": "markdown",
   "metadata": {},
   "source": [
    "# Visualize train and test accuracy"
   ]
  },
  {
   "cell_type": "code",
   "execution_count": 191,
   "metadata": {},
   "outputs": [
    {
     "data": {
      "image/png": "[encoded data removed]",
      "text/plain": [
       "<Figure size 800x800 with 1 Axes>"
      ]
     },
     "metadata": {},
     "output_type": "display_data"
    }
   ],
   "source": [
    "fig, ax = plt.subplots(figsize = (8, 8))\n",
    "\n",
    "# Title\n",
    "plt.title(\"Accuracy\")\n",
    "\n",
    "# Data\n",
    "plt.plot(train_accuracies, label = \"Train accuracy\")\n",
    "plt.plot(test_accuracies, label = \"Test accuracy\")\n",
    "\n",
    "# Axis\n",
    "plt.xlabel(\"Epoch\")\n",
    "plt.ylabel(\"Accuracy (%)\")\n",
    "\n",
    "# Legend\n",
    "plt.legend()\n",
    "plt.show()"
   ]
  },
  {
   "cell_type": "markdown",
   "metadata": {},
   "source": [
    "# Confusion matrix"
   ]
  },
  {
   "cell_type": "code",
   "execution_count": 193,
   "metadata": {},
   "outputs": [
    {
     "data": {
      "image/png": "[encoded data removed]",
      "text/plain": [
       "<Figure size 640x480 with 2 Axes>"
      ]
     },
     "metadata": {},
     "output_type": "display_data"
    }
   ],
   "source": [
    "# Create confusion matrix\n",
    "cm = confusion_matrix(true_labels, pred_labels)\n",
    "\n",
    "# Figure\n",
    "\n",
    "\n",
    "# Display confusion matrix\n",
    "sns.heatmap(cm, annot=True, cmap=\"Reds\", fmt=\"0.0f\")\n",
    "\n",
    "# Title\n",
    "plt.title(\"Confusion matrix from test data\", fontweight = \"bold\", fontsize = 16)\n",
    "\n",
    "# Axis\n",
    "plt.xlabel(\"Predicted class\", fontweight = \"bold\", fontsize = 12)\n",
    "plt.ylabel(\"Actual class\", fontweight = \"bold\", fontsize = 12)\n",
    "plt.xticks(np.arange(5)+0.5, keys, rotation = 45)\n",
    "plt.yticks(np.arange(5)+0.5, keys, rotation = 0)\n",
    "fig.savefig(\"confusion_matrix.png\")\n",
    "plt.show()"
   ]
  },
  {
   "cell_type": "code",
   "execution_count": null,
   "metadata": {},
   "outputs": [],
   "source": []
  }
 ],
 "metadata": {
  "kernelspec": {
   "display_name": "base",
   "language": "python",
   "name": "python3"
  },
  "language_info": {
   "codemirror_mode": {
    "name": "ipython",
    "version": 3
   },
   "file_extension": ".py",
   "mimetype": "text/x-python",
   "name": "python",
   "nbconvert_exporter": "python",
   "pygments_lexer": "ipython3",
   "version": "3.12.2"
  }
 },
 "nbformat": 4,
 "nbformat_minor": 2
}
